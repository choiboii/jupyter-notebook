{
 "cells": [
  {
   "cell_type": "code",
   "execution_count": 1,
   "id": "037b9297-eeff-416b-8625-2500c3d4df56",
   "metadata": {},
   "outputs": [],
   "source": [
    "from matplotlib import pyplot as plt\n",
    "import numpy as np\n"
   ]
  },
  {
   "cell_type": "code",
   "execution_count": 15,
   "id": "c7fff675-5c63-4788-a87b-513cee6836d5",
   "metadata": {},
   "outputs": [
    {
     "name": "stdout",
     "output_type": "stream",
     "text": [
      "First metal: iron\n",
      "Second metal: steel\n",
      "30.0\n",
      "31.70918367346939\n",
      "33.265306122448976\n",
      "34.66836734693877\n",
      "35.91836734693878\n",
      "37.015306122448976\n",
      "37.95918367346938\n",
      "38.75\n",
      "39.38775510204082\n",
      "39.872448979591844\n",
      "40.20408163265306\n",
      "40.382653061224495\n",
      "40.40816326530612\n",
      "40.280612244897966\n",
      "40.0\n",
      "39.566326530612244\n",
      "38.9795918367347\n",
      "38.23979591836735\n",
      "37.3469387755102\n",
      "36.30102040816327\n",
      "35.10204081632653\n",
      "33.75\n",
      "32.244897959183675\n",
      "30.58673469387755\n",
      "28.775510204081634\n",
      "26.811224489795922\n",
      "24.69387755102041\n",
      "22.423469387755098\n",
      "20.0\n",
      "\n",
      "Best possible combination of metals iron and steel:\n",
      "12 iron, 16 steel with a score of 40.40816326530612\n"
     ]
    }
   ],
   "source": [
    "def metal_score(v_1, v_2):\n",
    "    return (10 * v_1 + 10 * v_2 + v_1 * v_2) / 10\n",
    "\n",
    "def metal_value(tier, amount):\n",
    "    return 10 * tier * amount / 28\n",
    "\n",
    "metal_tiers = {\n",
    "    \"bronze\":1,\n",
    "    \"iron\":2,\n",
    "    \"steel\":3,\n",
    "    \"mithril\":4,\n",
    "    \"adamant\":5,\n",
    "    \"rune\":6\n",
    "}\n",
    "    \n",
    "metal_score_max = 0\n",
    "metals = ()\n",
    "\n",
    "metal1 = input(\"First metal: \").lower()\n",
    "metal2 = input(\"Second metal: \").lower()\n",
    "\n",
    "tier1 = metal_tiers[metal1]\n",
    "tier2 = metal_tiers[metal2]\n",
    "    \n",
    "for i in range(0, 29, 1):\n",
    "    v_1 = metal_value(tier1, i)\n",
    "    v_2 = metal_value(tier2, 28 - i)\n",
    "    v_tot = metal_score(v_1, v_2)\n",
    "    print(v_tot)\n",
    "    if v_tot > metal_score_max:\n",
    "        metal_score_max = v_tot\n",
    "        metals = (i, 28 - i)\n",
    "print(f\"\\nBest possible combination of metals, {metal1} and {metal2}:\")\n",
    "print(f\"{metals[0]} {metal1}, {metals[1]} {metal2} with a score of {metal_score_max}\")"
   ]
  },
  {
   "cell_type": "code",
   "execution_count": null,
   "id": "b813833f-1f56-4168-aeff-e5100a9fb39a",
   "metadata": {},
   "outputs": [],
   "source": []
  }
 ],
 "metadata": {
  "kernelspec": {
   "display_name": "Python 3",
   "language": "python",
   "name": "python3"
  },
  "language_info": {
   "codemirror_mode": {
    "name": "ipython",
    "version": 3
   },
   "file_extension": ".py",
   "mimetype": "text/x-python",
   "name": "python",
   "nbconvert_exporter": "python",
   "pygments_lexer": "ipython3",
   "version": "3.9.4"
  }
 },
 "nbformat": 4,
 "nbformat_minor": 5
}
